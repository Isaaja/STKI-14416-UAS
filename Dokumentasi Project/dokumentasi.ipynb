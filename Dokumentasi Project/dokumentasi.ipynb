{
 "cells": [
  {
   "cell_type": "markdown",
   "metadata": {},
   "source": [
    "# Dokumentasi Project STKI"
   ]
  },
  {
   "cell_type": "markdown",
   "metadata": {},
   "source": [
    "## 1. Judul / Topik Project dan Identitas Lengkap"
   ]
  },
  {
   "cell_type": "markdown",
   "metadata": {},
   "source": [
    "Judul/Topik: Sistem Pencari untuk Memberikan Rekomendasi Anime\n",
    "Nama: Isa Iant Maulana\n",
    "NIM: A11.2022.14416\n",
    "Tugas: STKI"
   ]
  },
  {
   "cell_type": "markdown",
   "metadata": {},
   "source": [
    "## 2. Ringkasan dan Permasalahan Project"
   ]
  },
  {
   "cell_type": "markdown",
   "metadata": {},
   "source": [
    "**Ringkasan:**\n",
    "\n",
    "Sistem ini bertujuan untuk merekomendasikan anime kepada pengguna berdasarkan preferensi mereka. Sistem menggunakan dua pendekatan utama:\n",
    "\n",
    "1. Collaborative Filtering: Berdasarkan kesamaan preferensi pengguna lain.\n",
    "\n",
    "2. Content-Based Filtering: Berdasarkan kesamaan genre dan fitur dari anime itu sendiri.\n",
    "\n",
    "**Permasalahan:**\n",
    "\n",
    "Pengguna sering kesulitan menemukan anime baru yang sesuai dengan preferensi mereka. Data dari rating dan genre anime perlu diolah untuk menghasilkan rekomendasi yang relevan.\n",
    "\n",
    "**Tujuan yang Akan Dicapai:**\n",
    "\n",
    "1. Mengembangkan sistem rekomendasi yang dapat memberikan rekomendasi anime personal.\n",
    "\n",
    "2. Meningkatkan pengalaman pengguna dalam menemukan anime baru.\n",
    "\n",
    "**Model/Alur Penyelesaian:**\n",
    "\n",
    "*Bagan Alur:*\n",
    "\n",
    "1. Import Dataset\n",
    "\n",
    "2. Preprocessing\n",
    "\n",
    "    a. Menghapus nilai kosong dan data duplikat\n",
    "\n",
    "    b.Pembuatan pivot table\n",
    "\n",
    "3. Model Development\n",
    "\n",
    "    a. Collaborative Filtering: KNN\n",
    "\n",
    "    b. Content-Based Filtering: TF-IDF dan Sigmoid Kernel\n",
    "\n",
    "4. Evaluasi dan Penyajian Rekomendasi\n",
    "\n",
    "Input Data -> Preprocessing -> Feature Extraction -> Model Training -> Recommendation\n",
    "\n"
   ]
  },
  {
   "cell_type": "markdown",
   "metadata": {},
   "source": [
    "## 3. Penjelasan Dataset, EDA dan features Dataset"
   ]
  },
  {
   "cell_type": "markdown",
   "metadata": {},
   "source": [
    "**Dataset**\n",
    "1. Anime.csv berisi informasi tentang anime (id, name, genre, type, episodes, rating(rata-rata rating dari 10 anime), members)\n",
    "2. Rating.csv berisi informasi tentnang anime (user_id, anime_id, rating(perinkat dari 10 yang telah diberikan oleh pengguna(-1 jika pengguna menonton tapi tidak memberikan rating)))"
   ]
  },
  {
   "cell_type": "markdown",
   "metadata": {},
   "source": [
    "**EDA(Exploratory Data Analysis):**\n",
    "1. **Statistik Dataset:**\n",
    "   - Anime dataset memiliki beberapa kolom kosong yang dihapus.\n",
    "   - Duplicate entries dihapus untuk menjaga integritas data.\n",
    "2. **Pivot Table:**\n",
    "   - Dibuat berdasarkan nama anime (index) dan ID pengguna (kolom) dengan nilai berupa rating pengguna. Ini digunakan untuk Collaborative Filtering.\n",
    "3. **Genres:**\n",
    "   - Dibersihkan dan diproses dengan TF-IDF untuk Content-Based Filtering."
   ]
  },
  {
   "cell_type": "markdown",
   "metadata": {},
   "source": [
    "**Proses Features Dataset:**"
   ]
  },
  {
   "cell_type": "markdown",
   "metadata": {},
   "source": [
    "- Data pengguna difilter untuk hanya menyertakan pengguna dengan lebih dari 50 rating.\n",
    "- Nama anime dibersihkan dari karakter khusus.\n",
    "- Data pivot table digunakan sebagai input untuk model KNN"
   ]
  },
  {
   "cell_type": "markdown",
   "metadata": {},
   "source": [
    "## 4. Proses Learning / Modelling "
   ]
  },
  {
   "cell_type": "markdown",
   "metadata": {},
   "source": [
    "**Collaborative Filtering (KNN):**\n",
    "- **Input:** Pivot table dari data pengguna dan anime.\n",
    "- **Model:** NearestNeighbors dengan metrik cosine similarity.\n",
    "- **Output:** Rekomendasi anime berdasarkan kemiripan preferensi pengguna."
   ]
  },
  {
   "cell_type": "markdown",
   "metadata": {},
   "source": [
    "**Content-Based Filtering:**\n",
    "- **Input:** Genre anime.\n",
    "- **Model:**\n",
    "  - TF-IDF untuk mengolah teks genre.\n",
    "  - Sigmoid kernel untuk menghitung kesamaan antar-anime.\n",
    "- **Output:** Rekomendasi anime berdasarkan kesamaan genre"
   ]
  },
  {
   "cell_type": "markdown",
   "metadata": {},
   "source": [
    "## 5. Performa Model"
   ]
  },
  {
   "cell_type": "markdown",
   "metadata": {},
   "source": [
    "**Collaborative Filtering:**\n",
    "  - KNN memberikan rekomendasi berdasarkan kesamaan rating pengguna.\n",
    "  - Evaluasi dilakukan secara manual dengan memeriksa relevansi rekomendasi terhadap input.\n"
   ]
  },
  {
   "cell_type": "markdown",
   "metadata": {},
   "source": [
    "**Content-Based Filtering:**\n",
    "  - Rekomendasi diuji dengan data yang memiliki genre spesifik.\n",
    "  - Sistem menghasilkan daftar anime yang relevan berdasarkan kesamaan fitur genre.\n"
   ]
  },
  {
   "cell_type": "markdown",
   "metadata": {},
   "source": [
    "**Hasil:**\n",
    "- Sistem mampu memberikan rekomendasi yang akurat untuk judul populer seperti \"Naruto\" atau \"Attack on Titan.\"\n",
    "\n"
   ]
  },
  {
   "cell_type": "markdown",
   "metadata": {},
   "source": [
    "## 6. Hasil dan Kesimpulan"
   ]
  },
  {
   "cell_type": "markdown",
   "metadata": {},
   "source": [
    "1. **Keunggulan:**\n",
    "   - Menggabungkan dua pendekatan (Collaborative dan Content-Based) memberikan rekomendasi yang lebih baik.\n",
    "   - Proses preprocessing yang optimal (menghapus duplikasi dan nilai kosong) meningkatkan kualitas hasil.\n",
    "\n",
    "2. **Kekurangan:**\n",
    "   - Collaborative Filtering membutuhkan data pengguna yang cukup banyak untuk menghasilkan rekomendasi yang relevan.\n",
    "   - Content-Based Filtering tidak mempertimbangkan faktor eksternal seperti tren atau popularitas saat ini.\n"
   ]
  },
  {
   "cell_type": "markdown",
   "metadata": {},
   "source": [
    " **Kesimpulan:**\n",
    "- Sistem rekomendasi yang dikembangkan berhasil memberikan rekomendasi anime yang relevan berdasarkan preferensi pengguna.\n",
    "- Kombinasi Collaborative dan Content-Based Filtering menghasilkan performa yang lebih baik dibandingkan hanya menggunakan satu metode.\n",
    "- Peningkatan dapat dilakukan dengan mempertimbangkan data tambahan seperti ulasan teks atau penggunaan model deep learning untuk prediksi yang lebih kompleks.\n"
   ]
  }
 ],
 "metadata": {
  "language_info": {
   "name": "python"
  }
 },
 "nbformat": 4,
 "nbformat_minor": 2
}
